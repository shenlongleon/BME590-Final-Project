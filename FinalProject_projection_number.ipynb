{
  "nbformat": 4,
  "nbformat_minor": 0,
  "metadata": {
    "colab": {
      "name": "FinalProject_projection_number.ipynb",
      "provenance": [],
      "collapsed_sections": []
    },
    "kernelspec": {
      "name": "python3",
      "display_name": "Python 3"
    }
  },
  "cells": [
    {
      "cell_type": "code",
      "metadata": {
        "id": "Btw3Zx4YO-W8",
        "colab_type": "code",
        "outputId": "fcd0c46e-802b-4409-98e1-72890deae8d9",
        "colab": {
          "base_uri": "https://localhost:8080/",
          "height": 35
        }
      },
      "source": [
        "import pandas as pd\n",
        "import numpy as np\n",
        "import matplotlib.pyplot as plt\n",
        "import seaborn as sns\n",
        "import cv2\n",
        "import glob\n",
        "from google.colab import files\n",
        "import tensorflow as tf\n",
        "from skimage.transform import radon, iradon\n",
        "from scipy import ndimage\n",
        "from tensorflow.keras.optimizers import Adam\n",
        "\n",
        "print('tensorflow version: ' + tf.__version__)"
      ],
      "execution_count": 0,
      "outputs": [
        {
          "output_type": "stream",
          "text": [
            "tensorflow version: 2.2.0-rc3\n"
          ],
          "name": "stdout"
        }
      ]
    },
    {
      "cell_type": "code",
      "metadata": {
        "id": "MIRyNa3FPJqV",
        "colab_type": "code",
        "outputId": "f9acaa08-5ed2-4b54-ce1d-842393b5d528",
        "colab": {
          "base_uri": "https://localhost:8080/",
          "height": 35
        }
      },
      "source": [
        "# Prepare to load file from google drive\n",
        "from google.colab import drive\n",
        "drive.mount('/content/drive')"
      ],
      "execution_count": 0,
      "outputs": [
        {
          "output_type": "stream",
          "text": [
            "Drive already mounted at /content/drive; to attempt to forcibly remount, call drive.mount(\"/content/drive\", force_remount=True).\n"
          ],
          "name": "stdout"
        }
      ]
    },
    {
      "cell_type": "code",
      "metadata": {
        "id": "SQNJbvMhPN0V",
        "colab_type": "code",
        "outputId": "24b40838-70e0-49d7-f0e4-9d644765b932",
        "colab": {
          "base_uri": "https://localhost:8080/",
          "height": 35
        }
      },
      "source": [
        "# Create an array containing the projection number we tried \n",
        "projection_num = np.array([2,5,10,20,30,60,90,180])\n",
        "\n",
        "# Import the accuracy we store for each projection\n",
        "accuracy = []\n",
        "for i, num in enumerate(projection_num):\n",
        "  eachacc = np.load('/content/drive/My Drive/MLProject/accuracy_projection/realaccuracy_{}.npy'.format(num))\n",
        "  accuracy.append(np.mean(eachacc[40:]))\n",
        "\n",
        "print(\"The mean of last 10 accuracies for each projection: \", +str(accuracy))"
      ],
      "execution_count": 0,
      "outputs": [
        {
          "output_type": "stream",
          "text": [
            "[0.5991666704416275, 0.7883333325386047, 0.8408333241939545, 0.8312499940395355, 0.8295833230018616, 0.8029166758060455, 0.8054166615009308, 0.8699999988079071]\n"
          ],
          "name": "stdout"
        }
      ]
    },
    {
      "cell_type": "code",
      "metadata": {
        "id": "mapCoFlpXcsY",
        "colab_type": "code",
        "outputId": "560e9d6e-dd9a-4661-ce05-b2194de1d2c7",
        "colab": {
          "base_uri": "https://localhost:8080/",
          "height": 350
        }
      },
      "source": [
        "# Plot the figure\n",
        "plt.figure(figsize = (8,5))\n",
        "plt.plot(projection_num, accuracy, marker = '.', color = 'orange', markerfacecolor='red',markeredgecolor='none', markersize=18, linewidth=3)\n",
        "plt.title('Projection Number vs Validation Accuracy')\n",
        "plt.xlabel('Projection Number')\n",
        "plt.ylabel('Validation Accuracy')\n",
        "plt.xlim([0,190])\n",
        "plt.grid()\n",
        "plt.ylim([0.5,1])\n",
        "\n",
        "plt.savefig(\"/content/drive/My Drive/MLProject/ProjNum_Acc.png\")"
      ],
      "execution_count": 0,
      "outputs": [
        {
          "output_type": "display_data",
          "data": {
            "image/png": "[encoded data removed]",
            "text/plain": [
              "<Figure size 576x360 with 1 Axes>"
            ]
          },
          "metadata": {
            "tags": [],
            "needs_background": "light"
          }
        }
      ]
    }
  ]
}